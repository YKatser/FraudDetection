{
 "cells": [
  {
   "cell_type": "code",
   "execution_count": 8,
   "metadata": {},
   "outputs": [],
   "source": [
    "import os\n",
    "import pandas as pd"
   ]
  },
  {
   "cell_type": "code",
   "execution_count": 5,
   "metadata": {},
   "outputs": [
    {
     "data": {
      "text/plain": [
       "['data/Kyoto2016/2015/01/20150122.txt',\n",
       " 'data/Kyoto2016/2015/01/20150131.txt',\n",
       " 'data/Kyoto2016/2015/01/20150130.txt',\n",
       " 'data/Kyoto2016/2015/01/20150113.txt',\n",
       " 'data/Kyoto2016/2015/01/20150110.txt']"
      ]
     },
     "execution_count": 5,
     "metadata": {},
     "output_type": "execute_result"
    }
   ],
   "source": [
    "path = 'data'\n",
    "\n",
    "files = []\n",
    "# r=root, d=directories, f = files\n",
    "for r, d, f in os.walk(path):\n",
    "    for file in f:\n",
    "        if '.txt' in file:\n",
    "            files.append(os.path.join(r, file))\n",
    "\n",
    "files[:5]"
   ]
  },
  {
   "cell_type": "code",
   "execution_count": 6,
   "metadata": {},
   "outputs": [],
   "source": [
    "with open(files[0], 'r') as fd:\n",
    "    data = fd.readlines()"
   ]
  },
  {
   "cell_type": "code",
   "execution_count": 7,
   "metadata": {},
   "outputs": [
    {
     "data": {
      "text/plain": [
       "'0.000000\\tother\\t0\\t0\\t0\\t0.00\\t0.00\\t0.00\\t47\\t49\\t0.02\\t0.91\\t0.88\\tS0\\t0\\t0\\t0\\t-1\\tfd95:ec1e:6a61:d514:1718:0873:13b3:5985\\t3866\\tfd95:ec1e:6a61:05d3:7dd2:270d:61ec:03f4\\t445\\t00:00:00\\ttcp\\n'"
      ]
     },
     "execution_count": 7,
     "metadata": {},
     "output_type": "execute_result"
    }
   ],
   "source": [
    "data[0]"
   ]
  },
  {
   "cell_type": "code",
   "execution_count": null,
   "metadata": {},
   "outputs": [],
   "source": [
    "columns = \"\"\"\n",
    "Duration\n",
    "Service\n",
    "Source bytes\n",
    "Destination bytes\n",
    "Count\n",
    "Same srv rate\n",
    "Serror rate\n",
    "Srv serror rate\n",
    "Dst host count\n",
    "Dst host srv count\n",
    "Dst host same src port rate\n",
    "Dst host serror rate\n",
    "Dst host srv serror rate\n",
    "Flag\n",
    "IDS detection\n",
    "Malware detection\n",
    "Ashula detection\n",
    "Label\n",
    "Source IP Address\n",
    "Source Port Number\n",
    "Destination IP Address\n",
    "Destination Port Number\n",
    "Start Time\n",
    "Duration\n",
    "\"\"\""
   ]
  },
  {
   "cell_type": "code",
   "execution_count": 12,
   "metadata": {},
   "outputs": [],
   "source": [
    "df = pd.read_csv(files[0],sep='\\t',header=None)"
   ]
  },
  {
   "cell_type": "code",
   "execution_count": 13,
   "metadata": {},
   "outputs": [
    {
     "data": {
      "text/html": [
       "<div>\n",
       "<style scoped>\n",
       "    .dataframe tbody tr th:only-of-type {\n",
       "        vertical-align: middle;\n",
       "    }\n",
       "\n",
       "    .dataframe tbody tr th {\n",
       "        vertical-align: top;\n",
       "    }\n",
       "\n",
       "    .dataframe thead th {\n",
       "        text-align: right;\n",
       "    }\n",
       "</style>\n",
       "<table border=\"1\" class=\"dataframe\">\n",
       "  <thead>\n",
       "    <tr style=\"text-align: right;\">\n",
       "      <th></th>\n",
       "      <th>0</th>\n",
       "      <th>1</th>\n",
       "      <th>2</th>\n",
       "      <th>3</th>\n",
       "      <th>4</th>\n",
       "      <th>5</th>\n",
       "      <th>6</th>\n",
       "      <th>7</th>\n",
       "      <th>8</th>\n",
       "      <th>9</th>\n",
       "      <th>...</th>\n",
       "      <th>14</th>\n",
       "      <th>15</th>\n",
       "      <th>16</th>\n",
       "      <th>17</th>\n",
       "      <th>18</th>\n",
       "      <th>19</th>\n",
       "      <th>20</th>\n",
       "      <th>21</th>\n",
       "      <th>22</th>\n",
       "      <th>23</th>\n",
       "    </tr>\n",
       "  </thead>\n",
       "  <tbody>\n",
       "    <tr>\n",
       "      <th>0</th>\n",
       "      <td>0.000000</td>\n",
       "      <td>other</td>\n",
       "      <td>0</td>\n",
       "      <td>0</td>\n",
       "      <td>0</td>\n",
       "      <td>0.0</td>\n",
       "      <td>0.0</td>\n",
       "      <td>0.0</td>\n",
       "      <td>47</td>\n",
       "      <td>49</td>\n",
       "      <td>...</td>\n",
       "      <td>0</td>\n",
       "      <td>0</td>\n",
       "      <td>0</td>\n",
       "      <td>-1</td>\n",
       "      <td>fd95:ec1e:6a61:d514:1718:0873:13b3:5985</td>\n",
       "      <td>3866</td>\n",
       "      <td>fd95:ec1e:6a61:05d3:7dd2:270d:61ec:03f4</td>\n",
       "      <td>445</td>\n",
       "      <td>00:00:00</td>\n",
       "      <td>tcp</td>\n",
       "    </tr>\n",
       "    <tr>\n",
       "      <th>1</th>\n",
       "      <td>0.000000</td>\n",
       "      <td>other</td>\n",
       "      <td>0</td>\n",
       "      <td>0</td>\n",
       "      <td>0</td>\n",
       "      <td>0.0</td>\n",
       "      <td>0.0</td>\n",
       "      <td>1.0</td>\n",
       "      <td>0</td>\n",
       "      <td>0</td>\n",
       "      <td>...</td>\n",
       "      <td>0</td>\n",
       "      <td>0</td>\n",
       "      <td>0</td>\n",
       "      <td>-1</td>\n",
       "      <td>fd95:ec1e:6a61:82f3:0097:0533:2862:4375</td>\n",
       "      <td>36415</td>\n",
       "      <td>fd95:ec1e:6a61:2d78:7dbb:27bd:6058:2b1e</td>\n",
       "      <td>8834</td>\n",
       "      <td>00:00:00</td>\n",
       "      <td>tcp</td>\n",
       "    </tr>\n",
       "    <tr>\n",
       "      <th>2</th>\n",
       "      <td>2.495048</td>\n",
       "      <td>other</td>\n",
       "      <td>0</td>\n",
       "      <td>0</td>\n",
       "      <td>1</td>\n",
       "      <td>1.0</td>\n",
       "      <td>1.0</td>\n",
       "      <td>1.0</td>\n",
       "      <td>47</td>\n",
       "      <td>49</td>\n",
       "      <td>...</td>\n",
       "      <td>0</td>\n",
       "      <td>0</td>\n",
       "      <td>0</td>\n",
       "      <td>-1</td>\n",
       "      <td>fd95:ec1e:6a61:d514:1718:0873:13b3:5985</td>\n",
       "      <td>3871</td>\n",
       "      <td>fd95:ec1e:6a61:05d3:7dd2:270d:61ec:03f4</td>\n",
       "      <td>445</td>\n",
       "      <td>00:00:01</td>\n",
       "      <td>tcp</td>\n",
       "    </tr>\n",
       "    <tr>\n",
       "      <th>3</th>\n",
       "      <td>29.124205</td>\n",
       "      <td>other</td>\n",
       "      <td>40</td>\n",
       "      <td>0</td>\n",
       "      <td>0</td>\n",
       "      <td>0.0</td>\n",
       "      <td>0.0</td>\n",
       "      <td>1.0</td>\n",
       "      <td>0</td>\n",
       "      <td>0</td>\n",
       "      <td>...</td>\n",
       "      <td>0</td>\n",
       "      <td>0</td>\n",
       "      <td>0</td>\n",
       "      <td>-1</td>\n",
       "      <td>fd95:ec1e:6a61:0f47:49fe:1e5f:158f:0924</td>\n",
       "      <td>42741</td>\n",
       "      <td>fd95:ec1e:6a61:9ab2:7d1b:2755:60c1:1b4e</td>\n",
       "      <td>34666</td>\n",
       "      <td>00:00:02</td>\n",
       "      <td>udp</td>\n",
       "    </tr>\n",
       "    <tr>\n",
       "      <th>4</th>\n",
       "      <td>0.000000</td>\n",
       "      <td>other</td>\n",
       "      <td>0</td>\n",
       "      <td>0</td>\n",
       "      <td>0</td>\n",
       "      <td>0.0</td>\n",
       "      <td>0.0</td>\n",
       "      <td>1.0</td>\n",
       "      <td>0</td>\n",
       "      <td>0</td>\n",
       "      <td>...</td>\n",
       "      <td>0</td>\n",
       "      <td>0</td>\n",
       "      <td>0</td>\n",
       "      <td>-1</td>\n",
       "      <td>fd95:ec1e:6a61:4f86:0b7a:5f2c:1f6e:7d90</td>\n",
       "      <td>46348</td>\n",
       "      <td>fd95:ec1e:6a61:f3af:7d20:2751:60cf:3d8e</td>\n",
       "      <td>6379</td>\n",
       "      <td>00:00:04</td>\n",
       "      <td>tcp</td>\n",
       "    </tr>\n",
       "  </tbody>\n",
       "</table>\n",
       "<p>5 rows × 24 columns</p>\n",
       "</div>"
      ],
      "text/plain": [
       "          0      1   2   3   4    5    6    7   8   9   ...  14  15  16 17  \\\n",
       "0   0.000000  other   0   0   0  0.0  0.0  0.0  47  49  ...   0   0   0 -1   \n",
       "1   0.000000  other   0   0   0  0.0  0.0  1.0   0   0  ...   0   0   0 -1   \n",
       "2   2.495048  other   0   0   1  1.0  1.0  1.0  47  49  ...   0   0   0 -1   \n",
       "3  29.124205  other  40   0   0  0.0  0.0  1.0   0   0  ...   0   0   0 -1   \n",
       "4   0.000000  other   0   0   0  0.0  0.0  1.0   0   0  ...   0   0   0 -1   \n",
       "\n",
       "                                        18     19  \\\n",
       "0  fd95:ec1e:6a61:d514:1718:0873:13b3:5985   3866   \n",
       "1  fd95:ec1e:6a61:82f3:0097:0533:2862:4375  36415   \n",
       "2  fd95:ec1e:6a61:d514:1718:0873:13b3:5985   3871   \n",
       "3  fd95:ec1e:6a61:0f47:49fe:1e5f:158f:0924  42741   \n",
       "4  fd95:ec1e:6a61:4f86:0b7a:5f2c:1f6e:7d90  46348   \n",
       "\n",
       "                                        20     21        22   23  \n",
       "0  fd95:ec1e:6a61:05d3:7dd2:270d:61ec:03f4    445  00:00:00  tcp  \n",
       "1  fd95:ec1e:6a61:2d78:7dbb:27bd:6058:2b1e   8834  00:00:00  tcp  \n",
       "2  fd95:ec1e:6a61:05d3:7dd2:270d:61ec:03f4    445  00:00:01  tcp  \n",
       "3  fd95:ec1e:6a61:9ab2:7d1b:2755:60c1:1b4e  34666  00:00:02  udp  \n",
       "4  fd95:ec1e:6a61:f3af:7d20:2751:60cf:3d8e   6379  00:00:04  tcp  \n",
       "\n",
       "[5 rows x 24 columns]"
      ]
     },
     "execution_count": 13,
     "metadata": {},
     "output_type": "execute_result"
    }
   ],
   "source": [
    "df.head()"
   ]
  },
  {
   "cell_type": "code",
   "execution_count": 32,
   "metadata": {},
   "outputs": [],
   "source": [
    "df.columns = columns"
   ]
  },
  {
   "cell_type": "code",
   "execution_count": 33,
   "metadata": {},
   "outputs": [
    {
     "name": "stdout",
     "output_type": "stream",
     "text": [
      "<class 'pandas.core.frame.DataFrame'>\n",
      "RangeIndex: 633250 entries, 0 to 633249\n",
      "Data columns (total 24 columns):\n",
      " #   Column                       Non-Null Count   Dtype  \n",
      "---  ------                       --------------   -----  \n",
      " 0   Duration                     633250 non-null  float64\n",
      " 1   Service                      633250 non-null  object \n",
      " 2   Source bytes                 633250 non-null  int64  \n",
      " 3   Destination bytes            633250 non-null  int64  \n",
      " 4   Count                        633250 non-null  int64  \n",
      " 5   Same srv rate                633250 non-null  float64\n",
      " 6   Serror rate                  633250 non-null  float64\n",
      " 7   Srv serror rate              633250 non-null  float64\n",
      " 8   Dst host count               633250 non-null  int64  \n",
      " 9   Dst host srv count           633250 non-null  int64  \n",
      " 10  Dst host same src port rate  633250 non-null  float64\n",
      " 11  Dst host serror rate         633250 non-null  float64\n",
      " 12  Dst host srv serror rate     633250 non-null  float64\n",
      " 13  Flag                         633250 non-null  object \n",
      " 14  IDS detection                633250 non-null  object \n",
      " 15  Malware detection            633250 non-null  object \n",
      " 16  Ashula detection             633250 non-null  object \n",
      " 17  Label                        633250 non-null  int64  \n",
      " 18  Source IP Address            633250 non-null  object \n",
      " 19  Source Port Number           633250 non-null  int64  \n",
      " 20  Destination IP Address       633250 non-null  object \n",
      " 21  Destination Port Number      633250 non-null  int64  \n",
      " 22  Start Time                   633250 non-null  object \n",
      " 23  Duration1                    633250 non-null  object \n",
      "dtypes: float64(7), int64(8), object(9)\n",
      "memory usage: 116.0+ MB\n"
     ]
    }
   ],
   "source": [
    "df.info()"
   ]
  },
  {
   "cell_type": "code",
   "execution_count": 42,
   "metadata": {},
   "outputs": [
    {
     "data": {
      "text/plain": [
       "array(['tcp', 'udp', 'icmp'], dtype=object)"
      ]
     },
     "execution_count": 42,
     "metadata": {},
     "output_type": "execute_result"
    }
   ],
   "source": [
    "df['Duration1'].unique()"
   ]
  },
  {
   "cell_type": "code",
   "execution_count": null,
   "metadata": {},
   "outputs": [],
   "source": []
  }
 ],
 "metadata": {
  "kernelspec": {
   "display_name": "Python 3",
   "language": "python",
   "name": "python3"
  },
  "language_info": {
   "codemirror_mode": {
    "name": "ipython",
    "version": 3
   },
   "file_extension": ".py",
   "mimetype": "text/x-python",
   "name": "python",
   "nbconvert_exporter": "python",
   "pygments_lexer": "ipython3",
   "version": "3.6.9"
  }
 },
 "nbformat": 4,
 "nbformat_minor": 4
}
